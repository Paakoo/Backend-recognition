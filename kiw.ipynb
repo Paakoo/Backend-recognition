{
 "cells": [
  {
   "cell_type": "code",
   "execution_count": 21,
   "metadata": {},
   "outputs": [
    {
     "name": "stdout",
     "output_type": "stream",
     "text": [
      "[\n",
      "  {\n",
      "    \"confidence\": 0.93,\n",
      "    \"face_area\": {\n",
      "      \"x\": 4,\n",
      "      \"y\": 5,\n",
      "      \"w\": 230,\n",
      "      \"h\": 230\n",
      "    },\n",
      "    \"spoofing\": true\n",
      "  }\n",
      "]\n"
     ]
    }
   ],
   "source": [
    "from deepface import DeepFace\n",
    "import json\n",
    "\n",
    "def get_face_analysis():\n",
    "    try:\n",
    "        # Extract faces with anti-spoofing\n",
    "        result = DeepFace.extract_faces(\n",
    "            img_path=\"static/uploads/Foto_Semiformal_3.jpg\",\n",
    "            anti_spoofing=True\n",
    "        )\n",
    "        \n",
    "        # Format the output\n",
    "        formatted_result = []\n",
    "        for face in result:\n",
    "            face_data = {\n",
    "                \"confidence\": float(face.get(\"confidence\", 0)),\n",
    "                \"face_area\": {\n",
    "                    \"x\": int(face.get(\"facial_area\", {}).get(\"x\", 0)),\n",
    "                    \"y\": int(face.get(\"facial_area\", {}).get(\"y\", 0)),\n",
    "                    \"w\": int(face.get(\"facial_area\", {}).get(\"w\", 0)),\n",
    "                    \"h\": int(face.get(\"facial_area\", {}).get(\"h\", 0))\n",
    "                },\n",
    "                \"spoofing\": face.get(\"is_real\", False)\n",
    "            }\n",
    "            formatted_result.append(face_data)\n",
    "        \n",
    "        # Convert to JSON string\n",
    "        json_output = json.dumps(formatted_result, indent=2)\n",
    "        return json_output\n",
    "\n",
    "    except Exception as e:\n",
    "        return json.dumps({\"error\": str(e)})\n",
    "\n",
    "# Call the function and print result\n",
    "print(get_face_analysis())"
   ]
  }
 ],
 "metadata": {
  "kernelspec": {
   "display_name": "Python 3",
   "language": "python",
   "name": "python3"
  },
  "language_info": {
   "codemirror_mode": {
    "name": "ipython",
    "version": 3
   },
   "file_extension": ".py",
   "mimetype": "text/x-python",
   "name": "python",
   "nbconvert_exporter": "python",
   "pygments_lexer": "ipython3",
   "version": "3.11.9"
  }
 },
 "nbformat": 4,
 "nbformat_minor": 2
}
